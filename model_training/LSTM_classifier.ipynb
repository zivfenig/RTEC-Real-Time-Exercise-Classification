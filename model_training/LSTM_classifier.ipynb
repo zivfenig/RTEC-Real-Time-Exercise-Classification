{
 "cells": [
  {
   "cell_type": "code",
   "execution_count": 2,
   "id": "8e8aae5e",
   "metadata": {},
   "outputs": [],
   "source": [
    "from torch.utils.data import Dataset, DataLoader\n",
    "import torch.nn as nn\n",
    "from sklearn.model_selection import train_test_split\n",
    "import torch\n",
    "import pandas as pd\n",
    "import numpy as np\n",
    "from sklearn.preprocessing import LabelEncoder\n",
    "import pickle\n"
   ]
  },
  {
   "cell_type": "code",
   "execution_count": 3,
   "id": "1e7c4576",
   "metadata": {},
   "outputs": [
    {
     "name": "stdout",
     "output_type": "stream",
     "text": [
      "X_seq shape: (27038, 800, 5)\n",
      "y_encoded shape: (27038,)\n",
      "Classes: ['Jumping Jacks' 'Pull ups' 'Push Ups' 'Russian twists' 'Squats']\n"
     ]
    }
   ],
   "source": [
    "# Load CSV\n",
    "df = pd.read_csv(\"exercise_angles.csv\")\n",
    "\n",
    "# Select the angle features\n",
    "features = [\"Shoulder_Angle\", \"Elbow_Angle\", \"Hip_Angle\", \"Knee_Angle\", \"Ankle_Angle\"]\n",
    "\n",
    "# Parameters\n",
    "sequence_length = 120\n",
    "X_seq = []\n",
    "y_seq = []\n",
    "\n",
    "# Sliding window\n",
    "for i in range(0, len(df) - sequence_length + 1):\n",
    "    window = df.iloc[i:i + sequence_length]\n",
    "    if window['Label'].nunique() == 1:\n",
    "        X_seq.append(window[features].values)\n",
    "        y_seq.append(window['Label'].iloc[0])\n",
    "\n",
    "# Convert to numpy\n",
    "X_seq = np.array(X_seq)             \n",
    "y_seq = np.array(y_seq)               \n",
    "# Encode string labels to integers\n",
    "label_encoder = LabelEncoder()\n",
    "y_encoded = label_encoder.fit_transform(y_seq)\n",
    "\n",
    "print(\"X_seq shape:\", X_seq.shape)\n",
    "print(\"y_encoded shape:\", y_encoded.shape)\n",
    "print(\"Classes:\", label_encoder.classes_)\n"
   ]
  },
  {
   "cell_type": "code",
   "execution_count": 4,
   "id": "7e77a392",
   "metadata": {},
   "outputs": [],
   "source": [
    "df = pd.read_csv(\"exercise_angles.csv\")\n",
    "\n",
    "# Assume the CSV has columns: \n",
    "# 'Shoulder_Angle', 'Elbow_Angle', 'Hip_Angle', 'Knee_Angle', 'Ankle_Angle', and 'Label'\n",
    "features = [\"Shoulder_Angle\", \"Elbow_Angle\", \"Hip_Angle\", \"Knee_Angle\", \"Ankle_Angle\"]\n",
    "label_col = \"Label\""
   ]
  },
  {
   "cell_type": "code",
   "execution_count": 5,
   "id": "ba413410",
   "metadata": {},
   "outputs": [],
   "source": [
    "class ExerciseSequenceDataset(Dataset):\n",
    "    def __init__(self, sequences, labels):\n",
    "        self.X = torch.tensor(sequences, dtype=torch.float32)\n",
    "        self.y = torch.tensor(labels, dtype=torch.long)  # Use long for CrossEntropyLoss\n",
    "\n",
    "    def __len__(self):\n",
    "        return len(self.X)\n",
    "\n",
    "    def __getitem__(self, idx):\n",
    "        return self.X[idx], self.y[idx]"
   ]
  },
  {
   "cell_type": "code",
   "execution_count": 6,
   "id": "39d98120",
   "metadata": {},
   "outputs": [],
   "source": [
    "class ExerciseLSTM(nn.Module):\n",
    "    def __init__(self, input_size, hidden_size, num_layers, num_classes, dropout=0.3):\n",
    "        super(ExerciseLSTM, self).__init__()\n",
    "        self.lstm = nn.LSTM(input_size=input_size,\n",
    "                            hidden_size=hidden_size,\n",
    "                            num_layers=num_layers,\n",
    "                            batch_first=True,\n",
    "                            dropout=dropout)\n",
    "        self.fc = nn.Linear(hidden_size, num_classes)\n",
    "\n",
    "    def forward(self, x):\n",
    "        out, _ = self.lstm(x)\n",
    "        out = self.fc(out[:, -1, :])  # take last time step\n",
    "        return out"
   ]
  },
  {
   "cell_type": "code",
   "execution_count": 7,
   "id": "c7422b70",
   "metadata": {},
   "outputs": [],
   "source": [
    "def train_model(model, train_loader, val_loader, criterion, optimizer, device, epochs=20):\n",
    "    model.to(device)\n",
    "\n",
    "    for epoch in range(epochs):\n",
    "        model.train()\n",
    "        total_loss = 0\n",
    "        for X_batch, y_batch in train_loader:\n",
    "            X_batch, y_batch = X_batch.to(device), y_batch.to(device)\n",
    "            optimizer.zero_grad()\n",
    "            outputs = model(X_batch)\n",
    "            loss = criterion(outputs, y_batch)\n",
    "            loss.backward()\n",
    "            optimizer.step()\n",
    "            total_loss += loss.item()\n",
    "\n",
    "        print(f\"Epoch {epoch+1}, Training Loss: {total_loss / len(train_loader):.4f}\")\n",
    "\n",
    "        # Validation\n",
    "        model.eval()\n",
    "        correct, total = 0, 0\n",
    "        with torch.no_grad():\n",
    "            for X_val, y_val in val_loader:\n",
    "                X_val, y_val = X_val.to(device), y_val.to(device)\n",
    "                outputs = model(X_val)\n",
    "                preds = torch.argmax(outputs, dim=1)\n",
    "                correct += (preds == y_val).sum().item()\n",
    "                total += y_val.size(0)\n",
    "        print(f\"Validation Accuracy: {correct / total:.4f}\")"
   ]
  },
  {
   "cell_type": "code",
   "execution_count": 8,
   "id": "85d7072e",
   "metadata": {},
   "outputs": [
    {
     "name": "stdout",
     "output_type": "stream",
     "text": [
      "Epoch 1, Training Loss: 0.1251\n",
      "Validation Accuracy: 0.9976\n",
      "Epoch 2, Training Loss: 0.0682\n",
      "Validation Accuracy: 0.9795\n",
      "Epoch 3, Training Loss: 0.0039\n",
      "Validation Accuracy: 1.0000\n",
      "Epoch 4, Training Loss: 0.0014\n",
      "Validation Accuracy: 1.0000\n",
      "Epoch 5, Training Loss: 0.0003\n",
      "Validation Accuracy: 1.0000\n",
      "Epoch 6, Training Loss: 0.0534\n",
      "Validation Accuracy: 0.4859\n",
      "Epoch 7, Training Loss: 0.3085\n",
      "Validation Accuracy: 0.9541\n",
      "Epoch 8, Training Loss: 0.0586\n",
      "Validation Accuracy: 1.0000\n",
      "Epoch 9, Training Loss: 0.0020\n",
      "Validation Accuracy: 1.0000\n",
      "Epoch 10, Training Loss: 0.0009\n",
      "Validation Accuracy: 1.0000\n",
      "Epoch 11, Training Loss: 0.0231\n",
      "Validation Accuracy: 1.0000\n",
      "Epoch 12, Training Loss: 0.0007\n",
      "Validation Accuracy: 1.0000\n",
      "Epoch 13, Training Loss: 0.0003\n",
      "Validation Accuracy: 1.0000\n",
      "Epoch 14, Training Loss: 0.0002\n",
      "Validation Accuracy: 1.0000\n",
      "Epoch 15, Training Loss: 0.0005\n",
      "Validation Accuracy: 1.0000\n",
      "Epoch 16, Training Loss: 0.0001\n",
      "Validation Accuracy: 1.0000\n",
      "Epoch 17, Training Loss: 0.0001\n",
      "Validation Accuracy: 1.0000\n",
      "Epoch 18, Training Loss: 0.0004\n",
      "Validation Accuracy: 0.9994\n",
      "Epoch 19, Training Loss: 0.0631\n",
      "Validation Accuracy: 0.9998\n",
      "Epoch 20, Training Loss: 0.0008\n",
      "Validation Accuracy: 0.9998\n"
     ]
    }
   ],
   "source": [
    "X_train, X_val, y_train, y_val = train_test_split(X_seq, y_encoded, test_size=0.2)\n",
    "\n",
    "train_dataset = ExerciseSequenceDataset(X_train, y_train)\n",
    "val_dataset = ExerciseSequenceDataset(X_val, y_val)\n",
    "\n",
    "train_loader = DataLoader(train_dataset, batch_size=32, shuffle=True)\n",
    "val_loader = DataLoader(val_dataset, batch_size=32)\n",
    "\n",
    "# Model setup\n",
    "model = ExerciseLSTM(input_size=5, hidden_size=64, num_layers=2, num_classes=5)\n",
    "optimizer = torch.optim.Adam(model.parameters(), lr=0.001)\n",
    "criterion = nn.CrossEntropyLoss()\n",
    "\n",
    "# Train\n",
    "train_model(model, train_loader, val_loader, criterion, optimizer, device='cuda' if torch.cuda.is_available() else 'cpu')"
   ]
  },
  {
   "cell_type": "code",
   "execution_count": 11,
   "id": "4c39a9e6",
   "metadata": {},
   "outputs": [
    {
     "name": "stdout",
     "output_type": "stream",
     "text": [
      "Model config saved to 'model_config.pkl'\n",
      "Label encoder saved to 'label_encoder.pkl'\n"
     ]
    }
   ],
   "source": [
    "torch.save(model.state_dict(), \"exercise_lstm_model.pth\")\n",
    "# print(\"Model weights saved to 'exercise_lstm_model.pth'\")\n",
    "\n",
    "# Save the model configuration so you can rebuild it later\n",
    "model_config = {\n",
    "    \"input_size\": 5,\n",
    "    \"hidden_size\": 64,\n",
    "    \"num_layers\": 2,\n",
    "    \"num_classes\": len(label_encoder.classes_),\n",
    "    \"dropout\": 0.3\n",
    "}\n",
    "with open(\"model_config.pkl\", \"wb\") as f:\n",
    "    pickle.dump(model_config, f)\n",
    "print(\"Model config saved to 'model_config.pkl'\")\n",
    "\n",
    "# Save the label encoder to map predictions back to class names\n",
    "with open(\"label_encoder.pkl\", \"wb\") as f:\n",
    "    pickle.dump(label_encoder, f)\n",
    "print(\"Label encoder saved to 'label_encoder.pkl'\")\n",
    "\n",
    "# Save the scaler if you used one (for angle normalization)\n",
    "# with open(\"scaler.pkl\", \"wb\") as f:\n",
    "#     pickle.dump(scaler, f)\n",
    "# print(\"Scaler saved to 'scaler.pkl'\")"
   ]
  },
  {
   "cell_type": "code",
   "execution_count": null,
   "id": "5429155a",
   "metadata": {},
   "outputs": [],
   "source": []
  }
 ],
 "metadata": {
  "kernelspec": {
   "display_name": "Python 3",
   "language": "python",
   "name": "python3"
  },
  "language_info": {
   "codemirror_mode": {
    "name": "ipython",
    "version": 3
   },
   "file_extension": ".py",
   "mimetype": "text/x-python",
   "name": "python",
   "nbconvert_exporter": "python",
   "pygments_lexer": "ipython3",
   "version": "3.11.11"
  }
 },
 "nbformat": 4,
 "nbformat_minor": 5
}
