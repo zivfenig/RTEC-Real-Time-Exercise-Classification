{
 "cells": [
  {
   "cell_type": "code",
   "id": "198a332f",
   "metadata": {
    "ExecuteTime": {
     "end_time": "2025-05-18T07:39:41.185179Z",
     "start_time": "2025-05-18T07:39:36.006863Z"
    }
   },
   "source": [
    "import torch\n",
    "import torch.nn as nn\n",
    "import numpy as np\n",
    "from torch.utils.data import DataLoader, Dataset\n",
    "from sklearn.model_selection import train_test_split\n",
    "from sklearn.preprocessing import LabelEncoder\n",
    "import pandas as pd\n",
    "import pickle\n"
   ],
   "outputs": [],
   "execution_count": 1
  },
  {
   "cell_type": "code",
   "execution_count": 7,
   "id": "b91a73bd",
   "metadata": {},
   "outputs": [],
   "source": [
    "df = pd.read_csv(\"exercise_angles.csv\")\n",
    "features = [\n",
    "    \"Shoulder_Angle\", \"Elbow_Angle\", \"Hip_Angle\", \"Knee_Angle\", \"Ankle_Angle\",\n",
    "    \"Shoulder_Ground_Angle\", \"Elbow_Ground_Angle\", \"Hip_Ground_Angle\", \"Knee_Ground_Angle\", \"Ankle_Ground_Angle\"\n",
    "]\n",
    "\n",
    "sequence_length = 120\n",
    "X_seq, y_seq = [], []\n",
    "\n",
    "# Create sequences\n",
    "for i in range(0, len(df) - sequence_length + 1):\n",
    "    window = df.iloc[i:i + sequence_length]\n",
    "    if window['Label'].nunique() == 1:\n",
    "        X_seq.append(window[features].values)\n",
    "        y_seq.append(window['Label'].iloc[0])\n",
    "\n",
    "X_seq = np.array(X_seq)\n",
    "y_seq = np.array(y_seq)\n",
    "label_encoder = LabelEncoder()\n",
    "y_encoded = label_encoder.fit_transform(y_seq)"
   ]
  },
  {
   "cell_type": "code",
   "execution_count": 8,
   "id": "65d77370",
   "metadata": {},
   "outputs": [],
   "source": [
    "class ExerciseSequenceDataset(Dataset):\n",
    "    def __init__(self, sequences, labels):\n",
    "        self.X = torch.tensor(sequences, dtype=torch.float32)\n",
    "        self.y = torch.tensor(labels, dtype=torch.long)\n",
    "\n",
    "    def __len__(self):\n",
    "        return len(self.X)\n",
    "\n",
    "    def __getitem__(self, idx):\n",
    "        return self.X[idx], self.y[idx]"
   ]
  },
  {
   "cell_type": "code",
   "execution_count": 9,
   "id": "17a8bd69",
   "metadata": {},
   "outputs": [],
   "source": [
    "class CNN_LSTM(nn.Module):\n",
    "    def __init__(self, input_size, hidden_size, num_layers, num_classes, dropout=0.3):\n",
    "        super(CNN_LSTM, self).__init__()\n",
    "        self.conv1 = nn.Conv1d(in_channels=input_size, out_channels=64, kernel_size=5, padding=2)\n",
    "        self.relu = nn.ReLU()\n",
    "        self.lstm = nn.LSTM(input_size=64, hidden_size=hidden_size, num_layers=num_layers,\n",
    "                            batch_first=True, dropout=dropout)\n",
    "        self.fc = nn.Linear(hidden_size, num_classes)\n",
    "\n",
    "    def forward(self, x):\n",
    "        x = x.permute(0, 2, 1)  # (batch, features, seq_len)\n",
    "        x = self.relu(self.conv1(x))\n",
    "        x = x.permute(0, 2, 1)  # (batch, seq_len, channels)\n",
    "        out, _ = self.lstm(x)\n",
    "        return self.fc(out[:, -1, :])"
   ]
  },
  {
   "cell_type": "code",
   "execution_count": 10,
   "id": "4568f60d",
   "metadata": {},
   "outputs": [],
   "source": [
    "def train_model(model, train_loader, val_loader, criterion, optimizer, device, epochs=20):\n",
    "    model.to(device)\n",
    "    for epoch in range(epochs):\n",
    "        model.train()\n",
    "        total_loss = 0\n",
    "        for X_batch, y_batch in train_loader:\n",
    "            X_batch, y_batch = X_batch.to(device), y_batch.to(device)\n",
    "            optimizer.zero_grad()\n",
    "            outputs = model(X_batch)\n",
    "            loss = criterion(outputs, y_batch)\n",
    "            loss.backward()\n",
    "            optimizer.step()\n",
    "            total_loss += loss.item()\n",
    "        print(f\"Epoch {epoch+1}, Loss: {total_loss / len(train_loader):.4f}\")\n",
    "\n",
    "        model.eval()\n",
    "        correct, total = 0, 0\n",
    "        with torch.no_grad():\n",
    "            for X_val, y_val in val_loader:\n",
    "                X_val, y_val = X_val.to(device), y_val.to(device)\n",
    "                outputs = model(X_val)\n",
    "                preds = torch.argmax(outputs, dim=1)\n",
    "                correct += (preds == y_val).sum().item()\n",
    "                total += y_val.size(0)\n",
    "        print(f\"Validation Accuracy: {correct / total:.4f}\")"
   ]
  },
  {
   "cell_type": "code",
   "execution_count": 12,
   "id": "5e450243",
   "metadata": {},
   "outputs": [
    {
     "name": "stdout",
     "output_type": "stream",
     "text": [
      "Epoch 1, Loss: 0.5469\n",
      "Validation Accuracy: 0.8860\n",
      "Epoch 2, Loss: 0.1903\n",
      "Validation Accuracy: 0.9768\n",
      "Epoch 3, Loss: 0.0929\n",
      "Validation Accuracy: 0.9627\n",
      "Epoch 4, Loss: 0.0975\n",
      "Validation Accuracy: 0.9630\n",
      "Epoch 5, Loss: 0.0541\n",
      "Validation Accuracy: 0.9974\n",
      "Epoch 6, Loss: 0.0241\n",
      "Validation Accuracy: 0.9975\n",
      "Epoch 7, Loss: 0.0385\n",
      "Validation Accuracy: 0.9644\n",
      "Epoch 8, Loss: 0.0701\n",
      "Validation Accuracy: 0.9970\n",
      "Epoch 9, Loss: 0.0328\n",
      "Validation Accuracy: 0.9936\n",
      "Epoch 10, Loss: 0.0378\n",
      "Validation Accuracy: 0.9979\n",
      "Epoch 11, Loss: 0.0168\n",
      "Validation Accuracy: 0.9980\n",
      "Epoch 12, Loss: 0.0309\n",
      "Validation Accuracy: 0.9404\n",
      "Epoch 13, Loss: 0.0385\n",
      "Validation Accuracy: 0.9957\n",
      "Epoch 14, Loss: 0.0312\n",
      "Validation Accuracy: 0.9997\n",
      "Epoch 15, Loss: 0.0137\n",
      "Validation Accuracy: 0.9951\n",
      "Epoch 16, Loss: 0.0052\n",
      "Validation Accuracy: 0.9990\n",
      "Epoch 17, Loss: 0.0137\n",
      "Validation Accuracy: 0.9987\n",
      "Epoch 18, Loss: 0.0165\n",
      "Validation Accuracy: 0.9997\n",
      "Epoch 19, Loss: 0.0189\n",
      "Validation Accuracy: 0.9997\n",
      "Epoch 20, Loss: 0.0026\n",
      "Validation Accuracy: 0.9995\n"
     ]
    }
   ],
   "source": [
    "X_train, X_val, y_train, y_val = train_test_split(X_seq, y_encoded, test_size=0.2)\n",
    "train_dataset = ExerciseSequenceDataset(X_train, y_train)\n",
    "val_dataset = ExerciseSequenceDataset(X_val, y_val)\n",
    "train_loader = DataLoader(train_dataset, batch_size=32, shuffle=True)\n",
    "val_loader = DataLoader(val_dataset, batch_size=32)\n",
    "\n",
    "# Initialize model and train\n",
    "device = torch.device('cuda' if torch.cuda.is_available() else 'cpu')\n",
    "model = CNN_LSTM(input_size=10, hidden_size=64, num_layers=2, num_classes=len(label_encoder.classes_))\n",
    "optimizer = torch.optim.Adam(model.parameters(), lr=0.001)\n",
    "criterion = nn.CrossEntropyLoss()\n",
    "train_model(model, train_loader, val_loader, criterion, optimizer, device)\n",
    "\n",
    "# Save model and config\n",
    "torch.save(model.state_dict(), \"cnn_lstm_model.pth\")\n",
    "with open(\"model_config.pkl\", \"wb\") as f:\n",
    "    pickle.dump({\n",
    "        \"input_size\": 10,  # ← was 5 before\n",
    "        \"hidden_size\": 64,\n",
    "        \"num_layers\": 2,\n",
    "        \"num_classes\": len(label_encoder.classes_),\n",
    "        \"dropout\": 0.3\n",
    "    }, f)\n",
    "with open(\"label_encoder.pkl\", \"wb\") as f:\n",
    "    pickle.dump(label_encoder, f)"
   ]
  },
  {
   "cell_type": "code",
   "execution_count": null,
   "id": "646abc31",
   "metadata": {},
   "outputs": [],
   "source": []
  }
 ],
 "metadata": {
  "kernelspec": {
   "display_name": "Python 3",
   "language": "python",
   "name": "python3"
  },
  "language_info": {
   "codemirror_mode": {
    "name": "ipython",
    "version": 3
   },
   "file_extension": ".py",
   "mimetype": "text/x-python",
   "name": "python",
   "nbconvert_exporter": "python",
   "pygments_lexer": "ipython3",
   "version": "3.11.11"
  }
 },
 "nbformat": 4,
 "nbformat_minor": 5
}
